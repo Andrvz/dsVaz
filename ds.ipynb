{
  "nbformat": 4,
  "nbformat_minor": 0,
  "metadata": {
    "colab": {
      "provenance": [],
      "authorship_tag": "ABX9TyOIGqUsH+67GJSDbEsezgBw",
      "include_colab_link": true
    },
    "kernelspec": {
      "name": "python3",
      "display_name": "Python 3"
    },
    "language_info": {
      "name": "python"
    }
  },
  "cells": [
    {
      "cell_type": "markdown",
      "metadata": {
        "id": "view-in-github",
        "colab_type": "text"
      },
      "source": [
        "<a href=\"https://colab.research.google.com/github/Andrvz/dsVaz/blob/main/ds.ipynb\" target=\"_parent\"><img src=\"https://colab.research.google.com/assets/colab-badge.svg\" alt=\"Open In Colab\"/></a>"
      ]
    },
    {
      "cell_type": "markdown",
      "source": [
        "# Análise Exploratórias e Visualização de Dados para E-Commerce\n",
        "\n",
        "\n"
      ],
      "metadata": {
        "id": "wrbYypKtv9sN"
      }
    },
    {
      "cell_type": "markdown",
      "source": [
        "# Manipulando Banco de Dados\n",
        "\n",
        "> ### **Bibliotecas** \n",
        "-   **Pandas**: \n",
        "-   **DuckDB**: \n",
        "-   **Matplotlib**: \n",
        "-   **Seaborn**: "
      ],
      "metadata": {
        "id": "jaFrnKkcysnc"
      }
    },
    {
      "cell_type": "code",
      "source": [
        "# !pip install duckdb"
      ],
      "metadata": {
        "id": "76Na0stBXqDM"
      },
      "execution_count": 1,
      "outputs": []
    },
    {
      "cell_type": "code",
      "execution_count": 2,
      "metadata": {
        "id": "l29z3SFUXSe1",
        "colab": {
          "base_uri": "https://localhost:8080/"
        },
        "outputId": "9f906bbb-02c4-48ab-dda8-6c8c559ef301"
      },
      "outputs": [
        {
          "output_type": "stream",
          "name": "stdout",
          "text": [
            "CPU times: user 752 ms, sys: 204 ms, total: 956 ms\n",
            "Wall time: 849 ms\n"
          ]
        }
      ],
      "source": [
        "%%time\n",
        "import pandas as pd\n",
        "import matplotlib.pyplot as plt\n",
        "import seaborn as sns\n",
        "import datetime\n",
        "from datetime import datetime\n",
        "import duckdb\n",
        "import warnings"
      ]
    },
    {
      "cell_type": "code",
      "source": [
        "%%time\n",
        "# Carregar dataset\n",
        "cliente_df = pd.read_csv(r'sample_data/cliente.csv', encoding='ISO-8859-1', sep=';', header=0)\n",
        "loja_df = pd.read_csv(r'sample_data/loja.csv', encoding='ISO-8859-1', sep=';')\n",
        "produto_df = pd.read_csv(r'sample_data/produto_1.csv', encoding='ISO-8859-1', sep=';')\n",
        "tempo_df = pd.read_csv(r'sample_data/dm_tempo_2.csv', encoding='ISO-8859-1', sep=';')\n",
        "vendas_df = pd.read_csv(r'sample_data/vendas.csv', encoding='ISO-8859-1', sep=';')\n",
        "\n",
        "# Tratar dataset\n",
        "vendas_df['Receita_venda'] = vendas_df['Receita_venda'].apply(lambda x : x[1:])\n",
        "tempo_df['Data'] = tempo_df['Data'].apply(lambda x : datetime.strptime(x, \"%d/%m/%Y\"))\n",
        "\n",
        "# Definir tipos de dados para colunas\n",
        "cliente_df = cliente_df.astype({'ID_Cliente ': 'int64', 'Estado Civil': 'object', 'Sexo': 'object', 'Bairro': 'object'})\n",
        "loja_df = loja_df.astype({'ID_Loja': 'int64', 'COD_Loja': 'int64', 'NM_Loja': 'object'})\n",
        "produto_df = produto_df.astype({'ID_Produto': 'int64', 'COD_Produto': 'int64', 'NM_Produto': 'string', 'Secao': 'string', 'Grupo': 'string', 'Subgrupo': 'string'})\n",
        "tempo_df = tempo_df.astype({'ID_Tempo': 'int64', 'Ano': 'int64', 'Mês': 'int32', 'Dia': 'int32', 'Data': 'string'})\n",
        "vendas_df = vendas_df.astype({'ID_Loja': 'int64', 'ID_Produto': 'int64', 'ID_Cliente': 'int64', 'ID_Tempo': 'int64', 'Qtde_Vendida': 'string', 'Receita_venda': 'float'})\n",
        "\n",
        "# Renomear colunas do dataset\n",
        "cliente_df.rename(columns = {'ID_Cliente ':'ID_Cliente', 'Estado Civil':'Estado_Civil'}, inplace = True)\n",
        "tempo_df.rename(columns = {'Mês':'Mes', 'Data':'Data_sql'}, inplace = True)"
      ],
      "metadata": {
        "colab": {
          "base_uri": "https://localhost:8080/"
        },
        "id": "qach5qJuXZGy",
        "outputId": "fadeec0b-b7ba-4fac-8eb7-474317df66e7"
      },
      "execution_count": 3,
      "outputs": [
        {
          "output_type": "stream",
          "name": "stdout",
          "text": [
            "CPU times: user 19.7 ms, sys: 0 ns, total: 19.7 ms\n",
            "Wall time: 19.7 ms\n"
          ]
        }
      ]
    },
    {
      "cell_type": "code",
      "source": [],
      "metadata": {
        "id": "dxjxA9Ys0eXq"
      },
      "execution_count": 3,
      "outputs": []
    },
    {
      "cell_type": "code",
      "source": [
        "%%time\n",
        "duckdb.sql(\"\"\"\n",
        "-- DROP TABLE cliente;\n",
        "-- DROP TABLE loja;\n",
        "-- DROP TABLE produto;\n",
        "-- DROP TABLE tempo;\n",
        "-- DROP TABLE vendas;\n",
        "\n",
        "CREATE TABLE cliente (\n",
        "    ID_Cliente  INT,\n",
        "    Estado_Civil    VARCHAR(50),\n",
        "    Sexo    VARCHAR(20),\n",
        "    Bairro  VARCHAR(20));\n",
        "\n",
        "CREATE TABLE produto (\n",
        "    ID_Produto INT,\n",
        "    COD_Produto INT,\n",
        "    NM_Produto VARCHAR,\n",
        "    Secao VARCHAR,\n",
        "    Grupo VARCHAR,\n",
        "    Subgrupo VARCHAR);\n",
        "\n",
        "CREATE TABLE tempo (\n",
        "    ID_Tempo INT,\n",
        "    Ano INT,\n",
        "    Mes INT,\n",
        "    Dia INT,\n",
        "    Data_sql DATE);\n",
        "\n",
        "CREATE TABLE vendas (\n",
        "    ID_Loja INT,\n",
        "    ID_Produto INT,\n",
        "    ID_Cliente INT,\n",
        "    ID_Tempo INT,\n",
        "    Qtde_Vendida INT,\n",
        "    Receita_venda DECIMAL);\n",
        "\n",
        "CREATE TABLE loja (\n",
        "        ID_Loja int,\n",
        "        COD_Loja int,\n",
        "        NM_Loja varchar);\n",
        "\"\"\")"
      ],
      "metadata": {
        "colab": {
          "base_uri": "https://localhost:8080/"
        },
        "id": "tWoLa4JOXcum",
        "outputId": "0193b47a-e551-491f-defd-7fe80c67bef7"
      },
      "execution_count": 4,
      "outputs": [
        {
          "output_type": "stream",
          "name": "stdout",
          "text": [
            "CPU times: user 1.61 ms, sys: 0 ns, total: 1.61 ms\n",
            "Wall time: 2.15 ms\n"
          ]
        }
      ]
    },
    {
      "cell_type": "code",
      "source": [
        "%%time\n",
        "duckdb.sql(\"\"\"\n",
        "INSERT INTO cliente SELECT * FROM cliente_df;\n",
        "INSERT INTO vendas SELECT * FROM vendas_df;\n",
        "INSERT INTO loja SELECT * FROM loja_df;\n",
        "INSERT INTO produto SELECT * FROM produto_df;\n",
        "INSERT INTO tempo SELECT * FROM tempo_df;\n",
        "\"\"\")\n",
        "\n",
        "duckdb.sql(\"\"\"\n",
        "--DROP INDEX IDx_Loja;\n",
        "--DROP INDEX IDx_Produto;\n",
        "--DROP INDEX IDx_Tempo;\n",
        "\n",
        "--CREATE UNIQUE INDEX IDx_Loja ON loja (ID_Loja);\n",
        "--CREATE UNIQUE INDEX IDx_Produto ON produto (ID_Produto);\n",
        "--CREATE UNIQUE INDEX IDx_Tempo ON tempo (ID_Tempo);\n",
        "--CREATE UNIQUE INDEX IDx_Cliente ON produto (ID_Cliente);\n",
        "\"\"\")\n",
        "\n",
        "duckdb.sql(\"\"\"\n",
        "-- SHOW tables\n",
        "DESCRIBE\n",
        "\n",
        "-- SELECT * FROM cliente;\n",
        "-- SELECT * FROM loja;\n",
        "-- SELECT * FROM produto;\n",
        "-- SELECT * FROM tempo;\n",
        "-- SELECT * FROM vendas;\n",
        "\"\"\")\n",
        "\n",
        "# duckdb.sql(\"\"\"\n",
        "# SHOW *\n",
        "# FROM IDx_Loja;\n",
        "# \"\"\")"
      ],
      "metadata": {
        "colab": {
          "base_uri": "https://localhost:8080/"
        },
        "id": "exh-Hg6uXfHQ",
        "outputId": "09290786-8374-4a84-eda3-6417edcfaacf"
      },
      "execution_count": 5,
      "outputs": [
        {
          "output_type": "stream",
          "name": "stdout",
          "text": [
            "CPU times: user 50 ms, sys: 5.03 ms, total: 55 ms\n",
            "Wall time: 47.7 ms\n"
          ]
        },
        {
          "output_type": "execute_result",
          "data": {
            "text/plain": [
              "┌────────────┬──────────────────────────────┬──────────────────────────────────────────────────────────────┬───────────┐\n",
              "│ table_name │         column_names         │                         column_types                         │ temporary │\n",
              "│  varchar   │          varchar[]           │                          varchar[]                           │  boolean  │\n",
              "├────────────┼──────────────────────────────┼──────────────────────────────────────────────────────────────┼───────────┤\n",
              "│ cliente    │ [ID_Cliente, Estado_Civil,…  │ [INTEGER, VARCHAR, VARCHAR, VARCHAR]                         │ false     │\n",
              "│ loja       │ [ID_Loja, COD_Loja, NM_Loja] │ [INTEGER, INTEGER, VARCHAR]                                  │ false     │\n",
              "│ produto    │ [ID_Produto, COD_Produto, …  │ [INTEGER, INTEGER, VARCHAR, VARCHAR, VARCHAR, VARCHAR]       │ false     │\n",
              "│ tempo      │ [ID_Tempo, Ano, Mes, Dia, …  │ [INTEGER, INTEGER, INTEGER, INTEGER, DATE]                   │ false     │\n",
              "│ vendas     │ [ID_Loja, ID_Produto, ID_C…  │ [INTEGER, INTEGER, INTEGER, INTEGER, INTEGER, DECIMAL(18,3)] │ false     │\n",
              "└────────────┴──────────────────────────────┴──────────────────────────────────────────────────────────────┴───────────┘"
            ]
          },
          "metadata": {},
          "execution_count": 5
        }
      ]
    },
    {
      "cell_type": "markdown",
      "source": [
        "# Solicitações\n",
        "\n",
        "-   Quantidade vendida no período entre 01/04/2020 a 01/04/2021; \n",
        "-   Quantidade de clientes únicos do sexo feminino e estado civil divorciada; \n",
        "-   Buscar os produtos com código 55,120,142 e que tiveram receita maior que\n",
        "R$120,00; \n",
        "-   Verificar a receita da loja com o código 32 no período igual ou superior a\n",
        "01/04/2021."
      ],
      "metadata": {
        "id": "HnRhoIpJwAtS"
      }
    },
    {
      "cell_type": "markdown",
      "source": [
        "2.1) Quantidade vendida no período entre 01/04/2020 a 01/04/2021;"
      ],
      "metadata": {
        "id": "IIFvxhffbHBF"
      }
    },
    {
      "cell_type": "code",
      "source": [
        "duckdb.sql(\"\"\"\n",
        "--DROP VIEW vwVendas_Tempo;\n",
        "\n",
        "CREATE VIEW vwVendas_Tempo AS\n",
        "SELECT\n",
        "     Vendas.ID_Tempo,\n",
        "\t   Vendas.ID_Cliente,\n",
        "\t   Vendas.ID_Produto,\n",
        "\t   Vendas.Receita_venda,\n",
        "\t   Vendas.Qtde_Vendida,\n",
        "\t   Tempo.Data_sql AS Data\n",
        "\n",
        "FROM vendas AS Vendas\n",
        "LEFT JOIN tempo AS Tempo ON Vendas.ID_Tempo  = Tempo.ID_Tempo\n",
        "\"\"\")\n",
        "\n",
        "duckdb.sql(\"\"\"\n",
        "SELECT\n",
        "      SUM(Qtde_Vendida) AS Qtde_Vendida\n",
        "\n",
        "FROM vwVendas_Tempo\n",
        "WHERE (Data > '2020-04-01' AND Data < '2022-04-01')\n",
        "\"\"\")"
      ],
      "metadata": {
        "colab": {
          "base_uri": "https://localhost:8080/"
        },
        "id": "Wg8gCnp8bGR2",
        "outputId": "5de90e80-c947-49e8-ce3c-980c7d52c2b4"
      },
      "execution_count": 6,
      "outputs": [
        {
          "output_type": "execute_result",
          "data": {
            "text/plain": [
              "┌──────────────┐\n",
              "│ Qtde_Vendida │\n",
              "│    int128    │\n",
              "├──────────────┤\n",
              "│         8629 │\n",
              "└──────────────┘"
            ]
          },
          "metadata": {},
          "execution_count": 6
        }
      ]
    },
    {
      "cell_type": "markdown",
      "source": [
        "2.2) Quantidade de clientes únicos do sexo feminino e estado civil divorciada;"
      ],
      "metadata": {
        "id": "7qJ6lG9bbQa0"
      }
    },
    {
      "cell_type": "code",
      "source": [
        "duckdb.sql(\"\"\"\n",
        "SELECT \n",
        "  COUNT(DISTINCT(ID_Cliente)) AS Clientes,\n",
        "  Sexo,\n",
        "  Estado_Civil\n",
        "\n",
        "FROM cliente\n",
        "WHERE (Sexo = 'Feminino' and Estado_Civil = 'Divorciado')\n",
        "GROUP BY Sexo, Estado_Civil;\n",
        "\"\"\")"
      ],
      "metadata": {
        "colab": {
          "base_uri": "https://localhost:8080/"
        },
        "id": "3JhtjJD4bGcD",
        "outputId": "fbe9077a-0ae5-4ba9-d2fc-8060084b22d3"
      },
      "execution_count": 7,
      "outputs": [
        {
          "output_type": "execute_result",
          "data": {
            "text/plain": [
              "┌──────────┬──────────┬──────────────┐\n",
              "│ Clientes │   Sexo   │ Estado_Civil │\n",
              "│  int64   │ varchar  │   varchar    │\n",
              "├──────────┼──────────┼──────────────┤\n",
              "│        1 │ Feminino │ Divorciado   │\n",
              "└──────────┴──────────┴──────────────┘"
            ]
          },
          "metadata": {},
          "execution_count": 7
        }
      ]
    },
    {
      "cell_type": "markdown",
      "source": [
        "2.3) Buscar os produtos com código 55,120,142 e que tiveram receita maior que\n",
        "R$120,00;"
      ],
      "metadata": {
        "id": "yWX80X_-bSdV"
      }
    },
    {
      "cell_type": "code",
      "source": [
        "duckdb.sql(\"\"\"\n",
        "--DROP VIEW vwVendas_Produto;\n",
        "\n",
        "CREATE VIEW vwVendas_Produto AS\n",
        "SELECT Vendas.ID_Tempo,\n",
        "\t   Vendas.ID_Cliente,\n",
        "\t   Vendas.ID_Loja,\n",
        "\t   Vendas.ID_Produto,\n",
        "\t   Vendas.Receita_venda,\n",
        "\t   Vendas.Qtde_Vendida,\n",
        "\t   Produto.COD_Produto,\n",
        "\t   Produto.NM_Produto,\n",
        "\t   Produto.Secao,\n",
        "\t   Produto.Grupo,\n",
        "\t   Produto.Subgrupo\n",
        "\n",
        "FROM produto AS Produto\n",
        "LEFT JOIN vendas AS Vendas ON Produto.ID_Produto  = Vendas.ID_Produto\n",
        "\"\"\")\n",
        "\n",
        "duckdb.sql(\"\"\"\n",
        "SELECT \n",
        "      COD_Produto,\n",
        "\t    SUM(Receita_venda) AS Receita\n",
        "\n",
        "FROM vwVendas_Produto\n",
        "WHERE (COD_Produto in (55,120,142) and Receita_venda > 120)\n",
        "GROUP BY COD_Produto;\n",
        "\"\"\")"
      ],
      "metadata": {
        "colab": {
          "base_uri": "https://localhost:8080/"
        },
        "id": "Vd8LXBXwbZie",
        "outputId": "c2bd12a6-a2b9-4930-f4ff-c677717a896a"
      },
      "execution_count": 8,
      "outputs": [
        {
          "output_type": "execute_result",
          "data": {
            "text/plain": [
              "┌─────────────┬───────────────┐\n",
              "│ COD_Produto │    Receita    │\n",
              "│    int32    │ decimal(38,3) │\n",
              "├─────────────┼───────────────┤\n",
              "│          55 │       448.260 │\n",
              "│         120 │      1115.490 │\n",
              "│         142 │      1488.530 │\n",
              "└─────────────┴───────────────┘"
            ]
          },
          "metadata": {},
          "execution_count": 8
        }
      ]
    },
    {
      "cell_type": "markdown",
      "source": [
        "2.4) Verificar a receita da loja com o código 32 no período igual ou superior a\n",
        "01/04/2021."
      ],
      "metadata": {
        "id": "UarfKCgBbUde"
      }
    },
    {
      "cell_type": "code",
      "source": [
        "duckdb.sql(\"\"\"\n",
        "--DROP VIEW vwVendas_Loja;\n",
        "\n",
        "CREATE VIEW vwVendas_Loja AS\n",
        "SELECT\n",
        "\t   Loja.ID_Loja,\n",
        "\t   Loja.COD_Loja,      \n",
        "\t   Loja.NM_Loja,\n",
        "     Vendas.ID_Tempo,\n",
        "\t   Vendas.ID_Cliente,\n",
        "\t   Vendas.ID_Produto,\n",
        "\t   Vendas.Receita_venda,\n",
        "\t   Vendas.Qtde_Vendida,\n",
        "\t   Tempo.Data_sql\n",
        "\n",
        "FROM loja AS Loja\n",
        "LEFT JOIN vendas AS Vendas ON Loja.ID_Loja  = Vendas.ID_Loja\n",
        "LEFT JOIN tempo AS Tempo ON Vendas.ID_Tempo  = Tempo.ID_Tempo\n",
        "\"\"\")\n",
        "\n",
        "duckdb.sql(\"\"\"\n",
        "SELECT \n",
        "      COD_Loja,\n",
        "      Data_sql\n",
        "\n",
        "FROM vwVendas_Loja\n",
        "WHERE COD_Loja = 32\n",
        "--WHERE (COD_Loja = 32 and Data_sql > 2021-04-01)\n",
        "GROUP BY COD_Loja, Data_sql;\n",
        "\"\"\")"
      ],
      "metadata": {
        "colab": {
          "base_uri": "https://localhost:8080/"
        },
        "id": "3doWcVC7bGVW",
        "outputId": "86f3fa7d-2fb8-456a-89ec-27e7642a31ef"
      },
      "execution_count": 9,
      "outputs": [
        {
          "output_type": "execute_result",
          "data": {
            "text/plain": [
              "┌──────────┬────────────┐\n",
              "│ COD_Loja │  Data_sql  │\n",
              "│  int32   │    date    │\n",
              "├──────────┼────────────┤\n",
              "│       32 │ 2022-01-08 │\n",
              "│       32 │ 2021-01-12 │\n",
              "│       32 │ 2020-04-01 │\n",
              "│       32 │ 2018-03-01 │\n",
              "└──────────┴────────────┘"
            ]
          },
          "metadata": {},
          "execution_count": 9
        }
      ]
    }
  ]
}